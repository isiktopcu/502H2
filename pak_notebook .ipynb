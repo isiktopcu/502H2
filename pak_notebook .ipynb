{
 "cells": [
  {
   "cell_type": "markdown",
   "id": "3178328b",
   "metadata": {},
   "source": [
    "# Linear Regression Model "
   ]
  },
  {
   "cell_type": "markdown",
   "id": "6bf78669",
   "metadata": {},
   "source": [
    "## GDP, Undernourishment and Life Expectancy Correlation for Pakistan"
   ]
  },
  {
   "cell_type": "markdown",
   "id": "d3915b2c",
   "metadata": {},
   "source": [
    "### Importing the libraries"
   ]
  },
  {
   "cell_type": "code",
   "execution_count": 31,
   "id": "f6bcef3d",
   "metadata": {},
   "outputs": [],
   "source": [
    "import numpy as np\n",
    "import pandas as pd\n",
    "import matplotlib.pyplot as plt\n",
    "import math\n",
    "from scipy import stats as st\n",
    "np.set_printoptions(suppress=True) #to discard the scientific notation "
   ]
  },
  {
   "cell_type": "markdown",
   "id": "c28e8374",
   "metadata": {},
   "source": [
    "### Reading the data "
   ]
  },
  {
   "cell_type": "code",
   "execution_count": 32,
   "id": "5a372395",
   "metadata": {
    "scrolled": false
   },
   "outputs": [
    {
     "data": {
      "text/html": [
       "<div>\n",
       "<style scoped>\n",
       "    .dataframe tbody tr th:only-of-type {\n",
       "        vertical-align: middle;\n",
       "    }\n",
       "\n",
       "    .dataframe tbody tr th {\n",
       "        vertical-align: top;\n",
       "    }\n",
       "\n",
       "    .dataframe thead th {\n",
       "        text-align: right;\n",
       "    }\n",
       "</style>\n",
       "<table border=\"1\" class=\"dataframe\">\n",
       "  <thead>\n",
       "    <tr style=\"text-align: right;\">\n",
       "      <th></th>\n",
       "      <th>date</th>\n",
       "      <th>GDP Per capita</th>\n",
       "      <th>Prevalence of undernourishment (% of population)</th>\n",
       "      <th>Life expectancy at birth, total (years)</th>\n",
       "    </tr>\n",
       "  </thead>\n",
       "  <tbody>\n",
       "    <tr>\n",
       "      <th>1</th>\n",
       "      <td>2019-01-01</td>\n",
       "      <td>4888.845087</td>\n",
       "      <td>12.9</td>\n",
       "      <td>67.273</td>\n",
       "    </tr>\n",
       "    <tr>\n",
       "      <th>2</th>\n",
       "      <td>2018-01-01</td>\n",
       "      <td>4853.266557</td>\n",
       "      <td>12.2</td>\n",
       "      <td>67.114</td>\n",
       "    </tr>\n",
       "    <tr>\n",
       "      <th>3</th>\n",
       "      <td>2017-01-01</td>\n",
       "      <td>4571.205078</td>\n",
       "      <td>12.1</td>\n",
       "      <td>66.947</td>\n",
       "    </tr>\n",
       "    <tr>\n",
       "      <th>4</th>\n",
       "      <td>2016-01-01</td>\n",
       "      <td>4410.006565</td>\n",
       "      <td>12.4</td>\n",
       "      <td>66.770</td>\n",
       "    </tr>\n",
       "    <tr>\n",
       "      <th>5</th>\n",
       "      <td>2015-01-01</td>\n",
       "      <td>4373.014475</td>\n",
       "      <td>12.8</td>\n",
       "      <td>66.577</td>\n",
       "    </tr>\n",
       "  </tbody>\n",
       "</table>\n",
       "</div>"
      ],
      "text/plain": [
       "         date  GDP Per capita  \\\n",
       "1  2019-01-01     4888.845087   \n",
       "2  2018-01-01     4853.266557   \n",
       "3  2017-01-01     4571.205078   \n",
       "4  2016-01-01     4410.006565   \n",
       "5  2015-01-01     4373.014475   \n",
       "\n",
       "   Prevalence of undernourishment (% of population)  \\\n",
       "1                                              12.9   \n",
       "2                                              12.2   \n",
       "3                                              12.1   \n",
       "4                                              12.4   \n",
       "5                                              12.8   \n",
       "\n",
       "   Life expectancy at birth, total (years)  \n",
       "1                                   67.273  \n",
       "2                                   67.114  \n",
       "3                                   66.947  \n",
       "4                                   66.770  \n",
       "5                                   66.577  "
      ]
     },
     "execution_count": 32,
     "metadata": {},
     "output_type": "execute_result"
    }
   ],
   "source": [
    "df = pd.read_csv('pakistan.csv') #NaN values were already dropped\n",
    "df.index = np.arange(1, (len(df)+1)) \n",
    "df.head()"
   ]
  },
  {
   "cell_type": "code",
   "execution_count": 7,
   "id": "d30bbdcd",
   "metadata": {},
   "outputs": [
    {
     "data": {
      "text/plain": [
       "date                                                19\n",
       "GDP Per capita                                      19\n",
       "Prevalence of undernourishment (% of population)    19\n",
       "Life expectancy at birth, total (years)             19\n",
       "dtype: int64"
      ]
     },
     "execution_count": 7,
     "metadata": {},
     "output_type": "execute_result"
    }
   ],
   "source": [
    "df.count() "
   ]
  },
  {
   "cell_type": "code",
   "execution_count": 4,
   "id": "0a5a83c5",
   "metadata": {},
   "outputs": [
    {
     "data": {
      "text/plain": [
       "Index(['date', 'GDP Per capita',\n",
       "       'Prevalence of undernourishment (% of population)',\n",
       "       'Life expectancy at birth, total (years)'],\n",
       "      dtype='object')"
      ]
     },
     "execution_count": 4,
     "metadata": {},
     "output_type": "execute_result"
    }
   ],
   "source": [
    "df.columns"
   ]
  },
  {
   "cell_type": "markdown",
   "id": "b27851cb",
   "metadata": {},
   "source": [
    "### Generating matrices of the outcome the and explanatory variables "
   ]
  },
  {
   "cell_type": "code",
   "execution_count": 8,
   "id": "d38b19b1",
   "metadata": {},
   "outputs": [
    {
     "data": {
      "text/plain": [
       "array([[4888.84508713,   12.9       ],\n",
       "       [4853.2665574 ,   12.2       ],\n",
       "       [4571.20507841,   12.1       ],\n",
       "       [4410.00656495,   12.4       ],\n",
       "       [4373.01447488,   12.8       ],\n",
       "       [4238.6338674 ,   13.9       ],\n",
       "       [4103.62956352,   15.1       ],\n",
       "       [4018.73273732,   15.9       ],\n",
       "       [3993.55936699,   15.9       ],\n",
       "       [3890.29061861,   15.9       ],\n",
       "       [3868.74394234,   15.9       ],\n",
       "       [3818.07198504,   15.8       ],\n",
       "       [3766.85556187,   15.8       ],\n",
       "       [3579.96243152,   16.4       ],\n",
       "       [3357.36342582,   17.6       ],\n",
       "       [3127.69076877,   19.        ],\n",
       "       [2898.03298256,   21.        ],\n",
       "       [2753.54073973,   21.8       ],\n",
       "       [2709.02790117,   21.1       ]])"
      ]
     },
     "execution_count": 8,
     "metadata": {},
     "output_type": "execute_result"
    }
   ],
   "source": [
    "#explanatory variables\n",
    "X = df[['GDP Per capita','Prevalence of undernourishment (% of population)']]\n",
    "X = np.array(X)\n",
    "X"
   ]
  },
  {
   "cell_type": "code",
   "execution_count": 9,
   "id": "ec68d9d7",
   "metadata": {},
   "outputs": [
    {
     "data": {
      "text/plain": [
       "array([[1],\n",
       "       [1],\n",
       "       [1],\n",
       "       [1],\n",
       "       [1],\n",
       "       [1],\n",
       "       [1],\n",
       "       [1],\n",
       "       [1],\n",
       "       [1],\n",
       "       [1],\n",
       "       [1],\n",
       "       [1],\n",
       "       [1],\n",
       "       [1],\n",
       "       [1],\n",
       "       [1],\n",
       "       [1],\n",
       "       [1]])"
      ]
     },
     "execution_count": 9,
     "metadata": {},
     "output_type": "execute_result"
    }
   ],
   "source": [
    "#a column of ones is created to add to the explanatory variable matrix \n",
    "column_of_ones = np.ones((len(X),1), dtype=int)\n",
    "column_of_ones"
   ]
  },
  {
   "cell_type": "code",
   "execution_count": 10,
   "id": "88158615",
   "metadata": {},
   "outputs": [
    {
     "data": {
      "text/plain": [
       "array([[   1.        , 4888.84508713,   12.9       ],\n",
       "       [   1.        , 4853.2665574 ,   12.2       ],\n",
       "       [   1.        , 4571.20507841,   12.1       ],\n",
       "       [   1.        , 4410.00656495,   12.4       ],\n",
       "       [   1.        , 4373.01447488,   12.8       ],\n",
       "       [   1.        , 4238.6338674 ,   13.9       ],\n",
       "       [   1.        , 4103.62956352,   15.1       ],\n",
       "       [   1.        , 4018.73273732,   15.9       ],\n",
       "       [   1.        , 3993.55936699,   15.9       ],\n",
       "       [   1.        , 3890.29061861,   15.9       ],\n",
       "       [   1.        , 3868.74394234,   15.9       ],\n",
       "       [   1.        , 3818.07198504,   15.8       ],\n",
       "       [   1.        , 3766.85556187,   15.8       ],\n",
       "       [   1.        , 3579.96243152,   16.4       ],\n",
       "       [   1.        , 3357.36342582,   17.6       ],\n",
       "       [   1.        , 3127.69076877,   19.        ],\n",
       "       [   1.        , 2898.03298256,   21.        ],\n",
       "       [   1.        , 2753.54073973,   21.8       ],\n",
       "       [   1.        , 2709.02790117,   21.1       ]])"
      ]
     },
     "execution_count": 10,
     "metadata": {},
     "output_type": "execute_result"
    }
   ],
   "source": [
    "#concatenating the explanatory variables matrix with the column of ones \n",
    "X_final = np.concatenate((column_of_ones,X), axis=1)\n",
    "X_final"
   ]
  },
  {
   "cell_type": "code",
   "execution_count": 11,
   "id": "97fa96dd",
   "metadata": {},
   "outputs": [
    {
     "data": {
      "text/plain": [
       "array([67.273, 67.114, 66.947, 66.77 , 66.577, 66.36 , 66.117, 65.849,\n",
       "       65.562, 65.264, 64.969, 64.685, 64.42 , 64.176, 63.951, 63.736,\n",
       "       63.522, 63.3  , 63.066])"
      ]
     },
     "execution_count": 11,
     "metadata": {},
     "output_type": "execute_result"
    }
   ],
   "source": [
    "#creating an outcome matrix \n",
    "Y = np.array(np.array(df['Life expectancy at birth, total (years)']))\n",
    "Y"
   ]
  },
  {
   "cell_type": "code",
   "execution_count": 12,
   "id": "fef3ffd9",
   "metadata": {},
   "outputs": [],
   "source": [
    "Y = np.array(Y).reshape((len(Y),1))"
   ]
  },
  {
   "cell_type": "markdown",
   "id": "59ed9cea",
   "metadata": {},
   "source": [
    "### The Normal Equation  "
   ]
  },
  {
   "cell_type": "code",
   "execution_count": 13,
   "id": "acca86c7",
   "metadata": {},
   "outputs": [
    {
     "data": {
      "text/plain": [
       "array([[1.90000000e+01, 7.32204737e+04, 3.03500000e+02],\n",
       "       [7.32204737e+04, 2.89885153e+08, 1.13500744e+06],\n",
       "       [3.03500000e+02, 1.13500744e+06, 5.01217000e+03]])"
      ]
     },
     "execution_count": 13,
     "metadata": {},
     "output_type": "execute_result"
    }
   ],
   "source": [
    "#I divided the equation into four pieces rather than doing it\n",
    "#in one line because I made use of them \n",
    "#in variance calculation.\n",
    "res1 = np.dot(X_final.T,X_final) \n",
    "res1"
   ]
  },
  {
   "cell_type": "code",
   "execution_count": 14,
   "id": "f721cd0a",
   "metadata": {},
   "outputs": [
    {
     "data": {
      "text/plain": [
       "array([[124.31775184,  -0.0169962 ,  -3.67896985],\n",
       "       [ -0.0169962 ,   0.00000235,   0.00049608],\n",
       "       [ -3.67896985,   0.00049608,   0.11063273]])"
      ]
     },
     "execution_count": 14,
     "metadata": {},
     "output_type": "execute_result"
    }
   ],
   "source": [
    "#(X^T.X)^-1\n",
    "res2 = np.linalg.inv(res1)\n",
    "res2"
   ]
  },
  {
   "cell_type": "code",
   "execution_count": 15,
   "id": "ba603d0c",
   "metadata": {},
   "outputs": [
    {
     "data": {
      "text/plain": [
       "array([[-6.23275618, -3.05277742,  2.10909334,  3.74516483,  2.90230191,\n",
       "         1.13939498, -0.98080847, -2.48106077, -2.0532091 , -0.29803262,\n",
       "         0.06817903,  1.29730682,  2.16779148,  3.1368829 ,  2.50545667,\n",
       "         1.25846167, -2.19616799, -2.68352457,  0.64830351],\n",
       "       [ 0.00091199,  0.00048098, -0.00023262, -0.00046327, -0.00035192,\n",
       "        -0.00012258,  0.00015491,  0.00035193,  0.00029267,  0.00004956,\n",
       "        -0.00000116, -0.00017005, -0.00029062, -0.00043293, -0.00036165,\n",
       "        -0.0002078 ,  0.00024373,  0.00030045, -0.0001516 ],\n",
       "       [ 0.1734627 ,  0.0783699 , -0.07261912, -0.11939706, -0.09349509,\n",
       "        -0.03846295,  0.02732307,  0.07371343,  0.06122536,  0.00999554,\n",
       "        -0.00069338, -0.03689413, -0.0623017 , -0.08863646, -0.06630464,\n",
       "        -0.02535539,  0.08198088,  0.098807  , -0.00071796]])"
      ]
     },
     "execution_count": 15,
     "metadata": {},
     "output_type": "execute_result"
    }
   ],
   "source": [
    "#(X^T.X)^-1.X.T\n",
    "res3 = np.dot(res2,X_final.T)\n",
    "res3"
   ]
  },
  {
   "cell_type": "code",
   "execution_count": 16,
   "id": "525983b0",
   "metadata": {},
   "outputs": [
    {
     "data": {
      "text/plain": [
       "array([[54.88897342],\n",
       "       [ 0.00238766],\n",
       "       [ 0.07229738]])"
      ]
     },
     "execution_count": 16,
     "metadata": {},
     "output_type": "execute_result"
    }
   ],
   "source": [
    "#(X^T.X)^-1.X.T.Y\n",
    "res4 = np.dot(res3,Y)\n",
    "res4\n",
    "#Variable Coefficients:\n",
    "#Intercept\n",
    "#GDP Per capita\n",
    "#Undernourishment"
   ]
  },
  {
   "cell_type": "code",
   "execution_count": 17,
   "id": "baedf03e",
   "metadata": {},
   "outputs": [
    {
     "data": {
      "text/plain": [
       "array([[67.49448637],\n",
       "       [67.35892894],\n",
       "       [66.67823363],\n",
       "       [66.31503636],\n",
       "       [66.25563096],\n",
       "       [66.01430351],\n",
       "       [65.77871663],\n",
       "       [65.63385018],\n",
       "       [65.57374485],\n",
       "       [65.32717468],\n",
       "       [65.27572864],\n",
       "       [65.14751174],\n",
       "       [65.02522458],\n",
       "       [64.62236664],\n",
       "       [64.17763381],\n",
       "       [63.73047101],\n",
       "       [63.32672215],\n",
       "       [63.03956239],\n",
       "       [62.88267291]])"
      ]
     },
     "execution_count": 17,
     "metadata": {},
     "output_type": "execute_result"
    }
   ],
   "source": [
    "Y_pred = np.dot(X_final,res4)\n",
    "Y_pred"
   ]
  },
  {
   "cell_type": "markdown",
   "id": "f318a68b",
   "metadata": {},
   "source": [
    "### Errors of the Estimate"
   ]
  },
  {
   "cell_type": "code",
   "execution_count": 18,
   "id": "d0329e49",
   "metadata": {},
   "outputs": [
    {
     "data": {
      "text/plain": [
       "array([[1.84041486]])"
      ]
     },
     "execution_count": 18,
     "metadata": {},
     "output_type": "execute_result"
    }
   ],
   "source": [
    "#Sum of Squared Errors (SSE)\n",
    "#E = Errors \n",
    "E = Y - Y_pred\n",
    "sse = np.dot(E.T,E)\n",
    "sse"
   ]
  },
  {
   "cell_type": "code",
   "execution_count": 19,
   "id": "1c9e2220",
   "metadata": {},
   "outputs": [
    {
     "data": {
      "text/plain": [
       "array([[0.1082597]])"
      ]
     },
     "execution_count": 19,
     "metadata": {},
     "output_type": "execute_result"
    }
   ],
   "source": [
    "#Mean of Squared Errors (MSE) \n",
    "E = Y - Y_pred\n",
    "n = len(Y)\n",
    "mse = sse / (n - X.shape[1])\n",
    "mse"
   ]
  },
  {
   "cell_type": "code",
   "execution_count": 20,
   "id": "c8dfb7ae",
   "metadata": {},
   "outputs": [
    {
     "data": {
      "text/plain": [
       "0.32902841484366707"
      ]
     },
     "execution_count": 20,
     "metadata": {},
     "output_type": "execute_result"
    }
   ],
   "source": [
    "#Standard Error of the Estimate (SE)\n",
    "se = math.sqrt(mse)\n",
    "se"
   ]
  },
  {
   "cell_type": "markdown",
   "id": "dc3235d0",
   "metadata": {},
   "source": [
    "### Standard Errors of the Variables via the Variance"
   ]
  },
  {
   "cell_type": "code",
   "execution_count": 21,
   "id": "d21fcf57",
   "metadata": {},
   "outputs": [
    {
     "data": {
      "text/plain": [
       "[3.6685967674061812, 0.0005048286039150371, 0.10943978379893991]"
      ]
     },
     "execution_count": 21,
     "metadata": {},
     "output_type": "execute_result"
    }
   ],
   "source": [
    "#a list of variable standard errors \n",
    "se_variables = np.sqrt(np.diag(mse*res2)).tolist()\n",
    "se_variables"
   ]
  },
  {
   "cell_type": "code",
   "execution_count": 22,
   "id": "aad6f3a4",
   "metadata": {},
   "outputs": [
    {
     "data": {
      "text/plain": [
       "[54.88897341528781, 0.002387655269639688, 0.07229738168175182]"
      ]
     },
     "execution_count": 22,
     "metadata": {},
     "output_type": "execute_result"
    }
   ],
   "source": [
    "#a list of betas\n",
    "betalist = res4.reshape(res4.shape[0],).tolist()\n",
    "betalist"
   ]
  },
  {
   "cell_type": "code",
   "execution_count": 23,
   "id": "1f2fc149",
   "metadata": {
    "scrolled": true
   },
   "outputs": [
    {
     "name": "stdout",
     "output_type": "stream",
     "text": [
      "{54.88897341528781: 3.6685967674061812, 0.002387655269639688: 0.0005048286039150371, 0.07229738168175182: 0.10943978379893991}\n"
     ]
    }
   ],
   "source": [
    "#a dictionary of beta - se tuples to be used in the CI formula \n",
    "d1 = dict(zip(betalist,se_variables))\n",
    "print(d1)"
   ]
  },
  {
   "cell_type": "markdown",
   "id": "d27ee5be",
   "metadata": {},
   "source": [
    "### Calculating the t-stat using the scipy module "
   ]
  },
  {
   "cell_type": "code",
   "execution_count": 24,
   "id": "921e2be9",
   "metadata": {},
   "outputs": [
    {
     "data": {
      "text/plain": [
       "2.1098155778331806"
      ]
     },
     "execution_count": 24,
     "metadata": {},
     "output_type": "execute_result"
    }
   ],
   "source": [
    "#%95 confidence\n",
    "#n > 1000 \n",
    "t = st.t.ppf(1-0.025,n-X.shape[1])\n",
    "#round(t,2)\n",
    "t"
   ]
  },
  {
   "cell_type": "markdown",
   "id": "8eeaf9e0",
   "metadata": {},
   "source": [
    "### %95 Confidence intervals "
   ]
  },
  {
   "cell_type": "code",
   "execution_count": 25,
   "id": "d2734656",
   "metadata": {},
   "outputs": [
    {
     "name": "stdout",
     "output_type": "stream",
     "text": [
      "47.1489108066258\n",
      "0.001322560016963966\n",
      "-0.15860037901194696\n"
     ]
    }
   ],
   "source": [
    "#Lower CI's\n",
    "\n",
    "#intercept lower\n",
    "#GDP lower\n",
    "#Undenourishment lower \n",
    "for beta in d1:\n",
    "    print(beta-(t*d1[beta]))"
   ]
  },
  {
   "cell_type": "code",
   "execution_count": 26,
   "id": "aff58149",
   "metadata": {
    "scrolled": true
   },
   "outputs": [
    {
     "name": "stdout",
     "output_type": "stream",
     "text": [
      "62.629036023949816\n",
      "0.0034527505223154098\n",
      "0.3031951423754506\n"
     ]
    }
   ],
   "source": [
    "#Upper CI's\n",
    "\n",
    "#intercept upper\n",
    "#GDP upper\n",
    "#Undernourishment upper\n",
    "\n",
    "for beta in d1:\n",
    "    print(beta+(t*d1[beta]))"
   ]
  },
  {
   "cell_type": "markdown",
   "id": "b9ab81c2",
   "metadata": {},
   "source": [
    "### t-values "
   ]
  },
  {
   "cell_type": "code",
   "execution_count": 27,
   "id": "d5bf38d9",
   "metadata": {},
   "outputs": [],
   "source": [
    "t_list = []"
   ]
  },
  {
   "cell_type": "code",
   "execution_count": 28,
   "id": "7f37e7ba",
   "metadata": {
    "scrolled": true
   },
   "outputs": [],
   "source": [
    "#intercept t-value\n",
    "#GDP t-value\n",
    "#Undernourishment t-value \n",
    "for beta in d1:  \n",
    "    beta/d1[beta]\n",
    "    t_list.append(beta/d1[beta])"
   ]
  },
  {
   "cell_type": "code",
   "execution_count": 29,
   "id": "55426d20",
   "metadata": {},
   "outputs": [
    {
     "data": {
      "text/plain": [
       "[14.961844240542174, 4.729635466617758, 0.6606133452764745]"
      ]
     },
     "execution_count": 29,
     "metadata": {},
     "output_type": "execute_result"
    }
   ],
   "source": [
    "t_list"
   ]
  },
  {
   "cell_type": "code",
   "execution_count": 30,
   "id": "fe390760",
   "metadata": {},
   "outputs": [
    {
     "name": "stdout",
     "output_type": "stream",
     "text": [
      "Null hypothesis rejected.\n",
      "Null hypothesis rejected.\n",
      "Failed to reject the null hypothesis.\n"
     ]
    }
   ],
   "source": [
    "#intercept t\n",
    "#GDP t\n",
    "#Undernourishment t \n",
    "for t_v in t_list:\n",
    "    if t_v >= t:\n",
    "        print('Null hypothesis rejected.')\n",
    "    else:\n",
    "        print(\"Failed to reject the null hypothesis.\")"
   ]
  }
 ],
 "metadata": {
  "kernelspec": {
   "display_name": "Python 3",
   "language": "python",
   "name": "python3"
  },
  "language_info": {
   "codemirror_mode": {
    "name": "ipython",
    "version": 3
   },
   "file_extension": ".py",
   "mimetype": "text/x-python",
   "name": "python",
   "nbconvert_exporter": "python",
   "pygments_lexer": "ipython3",
   "version": "3.8.8"
  }
 },
 "nbformat": 4,
 "nbformat_minor": 5
}
